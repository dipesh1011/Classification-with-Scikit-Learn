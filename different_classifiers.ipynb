{
 "cells": [
  {
   "cell_type": "markdown",
   "metadata": {},
   "source": [
    "1.Write a program to display \"Hello World!\""
   ]
  },
  {
   "cell_type": "code",
   "execution_count": null,
   "metadata": {},
   "outputs": [
    {
     "name": "stdout",
     "output_type": "stream",
     "text": [
      "Hello World!\n"
     ]
    }
   ],
   "source": [
    "print(\"Hello World!\")"
   ]
  },
  {
   "cell_type": "markdown",
   "metadata": {},
   "source": [
    "2.Write a program to find sum of two numbers. Use input() function to take input from the user.\n"
   ]
  },
  {
   "cell_type": "code",
   "execution_count": 1,
   "metadata": {},
   "outputs": [
    {
     "name": "stdout",
     "output_type": "stream",
     "text": [
      "Sum = 9\n"
     ]
    }
   ],
   "source": [
    "num1 = int(input(\"Enter first number:\"))\n",
    "num2 = int(input(\"Enter second number:\"))\n",
    "sum = num1 + num2\n",
    "print(\"Sum =\",sum)"
   ]
  },
  {
   "cell_type": "markdown",
   "metadata": {},
   "source": [
    "3. Write a program to calculate discount on the basis of following assumption:\n",
    "    a) If purchased amount is greter than or equal to 1000, discount is 5%"
   ]
  },
  {
   "cell_type": "code",
   "execution_count": 5,
   "metadata": {},
   "outputs": [
    {
     "name": "stdout",
     "output_type": "stream",
     "text": [
      "Discount = 90.0\n"
     ]
    }
   ],
   "source": [
    "purchased_amt = float(input(\"Enter purchased amount:\"))\n",
    "if(purchased_amt > 1000):\n",
    "    discount = 5/100 * purchased_amt\n",
    "print(\"Discount =\",discount)"
   ]
  },
  {
   "cell_type": "markdown",
   "metadata": {},
   "source": [
    "4. Write a program to calculate discount on the basis of following assumption:\n",
    "    a) If purchased amount is greater than or equal to 1000, discount is 5%\n",
    "    b) If purchased amount is less than 1000, discount is 3%"
   ]
  },
  {
   "cell_type": "code",
   "execution_count": 4,
   "metadata": {},
   "outputs": [
    {
     "name": "stdout",
     "output_type": "stream",
     "text": [
      "Discount = 60.0\n"
     ]
    }
   ],
   "source": [
    "purchased_amt = float(input(\"Enter purchased amount:\"))\n",
    "if(purchased_amt > 1000) | (purchased_amt == 1000):\n",
    "    discount = 5/100 * purchased_amt\n",
    "print(\"Discount =\",discount)"
   ]
  },
  {
   "cell_type": "markdown",
   "metadata": {},
   "source": [
    "5.Write a program to calculate discount on the basis of following assumption:\n",
    "    a)If purchased amount is greater than or equal to 5000, discount is 10%\n",
    "    b)If purchased amount is greater than or equal to 4000 and less than 5000, discount is 7%\n",
    "    c)If purchased amount is greater than or equal to 3000 and less than 4000, discount is 5%\n",
    "    d)If purchased amount is greater than or equal to 2000 and less than 3000, discount is 3%\n",
    "    e)If purchased amount is less than 2000, discount is 2%"
   ]
  },
  {
   "cell_type": "code",
   "execution_count": 5,
   "metadata": {},
   "outputs": [
    {
     "name": "stdout",
     "output_type": "stream",
     "text": [
      "Discount = 75.0\n"
     ]
    }
   ],
   "source": [
    "purchased_amt = float(input(\"Enter purchased amount:\"))\n",
    "if(purchased_amt > 5000) | (purchased_amt == 5000):\n",
    "    discount = 10/100 * purchased_amt\n",
    "elif (purchased_amt > 4000) | (purchased_amt == 4000):\n",
    "    discount = 7/100 * purchased_amt\n",
    "elif (purchased_amt > 3000) | (purchased_amt == 3000):\n",
    "    discount = 5/100 * purchased_amt\n",
    "elif (purchased_amt > 2000) | (purchased_amt == 2000):\n",
    "    discount = 3/100 * purchased_amt\n",
    "else:\n",
    "    discount = 2/100 * purchased_amt\n",
    "print(\"Discount =\",discount)"
   ]
  },
  {
   "cell_type": "markdown",
   "metadata": {},
   "source": [
    "6. Write a program to calculate the simple interest on the basis of following assumption:\n",
    "a. If balance is greater than 99999, interest is 7%\n",
    "b. If balance is greater than or equal to 50000 and less than 100000 interest is 5%\n",
    "c. If balance is less than 50000, interest is 3%"
   ]
  },
  {
   "cell_type": "code",
   "execution_count": 3,
   "metadata": {},
   "outputs": [
    {
     "name": "stdout",
     "output_type": "stream",
     "text": [
      "Interest = 3600.0\n"
     ]
    }
   ],
   "source": [
    "balance = float(input(\"Balance = ?\"))\n",
    "interest = 0\n",
    "if balance > 99999:\n",
    "    interest = 0.7 * balance\n",
    "elif (balance > 50000 or balance == 50000) and balance < 100000:\n",
    "    interest = 0.5 * balance\n",
    "else:\n",
    "    interest = 0.3 * balance\n",
    "print(\"Interest =\", interest)"
   ]
  },
  {
   "cell_type": "markdown",
   "metadata": {},
   "source": [
    "7. Write a program to test whether a number is even or odd."
   ]
  },
  {
   "cell_type": "code",
   "execution_count": 5,
   "metadata": {},
   "outputs": [
    {
     "name": "stdout",
     "output_type": "stream",
     "text": [
      "6 is even\n"
     ]
    }
   ],
   "source": [
    "num = int(input(\"Enter any number to test:\"))\n",
    "if num % 2 == 0:\n",
    "    print(f\"{num} is even\")\n",
    "else:\n",
    "    print(f\"{num} is odd\")"
   ]
  },
  {
   "cell_type": "markdown",
   "metadata": {},
   "source": [
    "25. Create a class Circle containing radius as instance variable and two functions area() and circumference() to find area and circumference of circles respectively. Create at least two objects of the Circle class two to test the program."
   ]
  },
  {
   "cell_type": "code",
   "execution_count": 7,
   "metadata": {},
   "outputs": [
    {
     "name": "stdout",
     "output_type": "stream",
     "text": [
      "Radius of 1st object: 154.0\n",
      "Circumference of 2nd object 88.0\n"
     ]
    }
   ],
   "source": [
    "class Circle:\n",
    "    def __init__(self, r):\n",
    "        self.radius = r\n",
    "    def area(self):\n",
    "        return 22/7 * self.radius**2\n",
    "\n",
    "    def circumference(self):\n",
    "        return 2 * 22/7 * self.radius\n",
    "\n",
    "c1 = Circle(7)\n",
    "c2 = Circle(14)\n",
    "print(\"Radius of 1st object:\",c1.area())\n",
    "print(\"Circumference of 2nd object\",c2.circumference())"
   ]
  },
  {
   "cell_type": "markdown",
   "metadata": {},
   "source": [
    "26. Create a class Rectangle containing length and breadth as instance variables and two functions area() and perimeter() to find area and perimeter of rectangles respectively. Create at least two objects of the Rectangle class to test the program."
   ]
  },
  {
   "cell_type": "code",
   "execution_count": 9,
   "metadata": {},
   "outputs": [
    {
     "name": "stdout",
     "output_type": "stream",
     "text": [
      "Area of R1 =  50\n",
      "Perimeter of R2 =  60\n"
     ]
    }
   ],
   "source": [
    "class Rectangle:\n",
    "    def __init__(self, l, b):\n",
    "        self.len = l\n",
    "        self.bredth = b\n",
    "    def area(self):\n",
    "        return self.len * self.bredth\n",
    "    def perimeter(self):\n",
    "        return 2*(self.len + self.bredth)\n",
    "\n",
    "r1 = Rectangle(10, 5)\n",
    "r2 = Rectangle(20, 10)\n",
    "print(\"Area of R1 = \",r1.area())\n",
    "print(\"Perimeter of R2 = \",r2.perimeter())"
   ]
  }
 ],
 "metadata": {
  "interpreter": {
   "hash": "20a9e06a1eee47c4abbed4ec8225ad91d78d9800d202b71b6b0a6e47016c6abd"
  },
  "kernelspec": {
   "display_name": "Python 3.9.7 ('base')",
   "language": "python",
   "name": "python3"
  },
  "language_info": {
   "codemirror_mode": {
    "name": "ipython",
    "version": 3
   },
   "file_extension": ".py",
   "mimetype": "text/x-python",
   "name": "python",
   "nbconvert_exporter": "python",
   "pygments_lexer": "ipython3",
   "version": "3.9.7"
  },
  "orig_nbformat": 4
 },
 "nbformat": 4,
 "nbformat_minor": 2
}
